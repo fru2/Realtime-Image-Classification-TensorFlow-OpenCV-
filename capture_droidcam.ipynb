{
 "cells": [
  {
   "cell_type": "code",
   "execution_count": 7,
   "metadata": {},
   "outputs": [],
   "source": [
    "import cv2\n",
    "import time\n",
    "from PIL import Image"
   ]
  },
  {
   "cell_type": "code",
   "execution_count": 50,
   "metadata": {},
   "outputs": [],
   "source": [
    "#cap = cv2.VideoCapture('http://192.168.43.24:4747/mjpegfeed')\n",
    "cap = cv2.VideoCapture(0)\n",
    "\n",
    "while True:\n",
    "    ret, image = cap.read()\n",
    "    \n",
    "    image = cv2.flip(image, 1)\n",
    "    \n",
    "    M = cv2.getRotationMatrix2D( (320, 240), 270, 1.42)\n",
    "    \n",
    "    rotated_image = cv2.warpAffine( image, M, (480, 640))\n",
    "    \n",
    "    \n",
    "    cv2.imshow('output', rotated_image)\n",
    "    \n",
    "    if cv2.waitKey(1) & 0xff == ord('c'):\n",
    "        cv2.imwrite('captures\\capture%d.jpg' % int(time.time()), rotated_image)\n",
    "        \n",
    "    if cv2.waitKey(2) & 0xff == ord('q'):\n",
    "        break\n",
    "cap.release()\n",
    "cv2.destroyAllWindows()      "
   ]
  },
  {
   "cell_type": "code",
   "execution_count": 22,
   "metadata": {},
   "outputs": [],
   "source": [
    "image = Image.open('captures\\capture1574419171.jpg')\n",
    "image = image.resize((224, 224))\n",
    "\n",
    "image.show()"
   ]
  },
  {
   "cell_type": "code",
   "execution_count": null,
   "metadata": {},
   "outputs": [],
   "source": []
  },
  {
   "cell_type": "code",
   "execution_count": null,
   "metadata": {},
   "outputs": [],
   "source": []
  }
 ],
 "metadata": {
  "kernelspec": {
   "display_name": "Python 3",
   "language": "python",
   "name": "python3"
  },
  "language_info": {
   "codemirror_mode": {
    "name": "ipython",
    "version": 3
   },
   "file_extension": ".py",
   "mimetype": "text/x-python",
   "name": "python",
   "nbconvert_exporter": "python",
   "pygments_lexer": "ipython3",
   "version": "3.7.3"
  }
 },
 "nbformat": 4,
 "nbformat_minor": 2
}
